{
 "cells": [
  {
   "cell_type": "markdown",
   "id": "2de8f51f-dd2b-467a-893e-48289228bae7",
   "metadata": {},
   "source": [
    "# Fluxo de Kovasznay Inverso\n",
    "---"
   ]
  },
  {
   "cell_type": "code",
   "execution_count": 1,
   "id": "caa7dcc7-5207-4321-9988-72e04563fb8d",
   "metadata": {},
   "outputs": [
    {
     "name": "stderr",
     "output_type": "stream",
     "text": [
      "which: no ccache in (/home/gabriel/anaconda3/envs/concap2025NSpinns/bin:/home/gabriel/anaconda3/condabin:/home/gabriel/.local/bin:/usr/local/sbin:/usr/local/bin:/usr/bin:/usr/lib/jvm/default/bin:/usr/bin/site_perl:/usr/bin/vendor_perl:/usr/bin/core_perl:/home/gabriel/.dotnet/tools)\n",
      "/home/gabriel/anaconda3/envs/concap2025NSpinns/lib/python3.13/site-packages/paddle/utils/cpp_extension/extension_utils.py:711: UserWarning: No ccache found. Please be aware that recompiling all source files may be required. You can download and install ccache from: https://github.com/ccache/ccache/blob/master/doc/INSTALL.md\n",
      "  warnings.warn(warning_message)\n",
      "Using backend: paddle\n",
      "Other supported backends: tensorflow.compat.v1, tensorflow, pytorch, jax.\n",
      "paddle supports more examples now and is recommended.\n"
     ]
    },
    {
     "name": "stdout",
     "output_type": "stream",
     "text": [
      "Set the default float type to float64\n"
     ]
    }
   ],
   "source": [
    "import os\n",
    "import re\n",
    "os.environ['DDE_BACKEND'] = 'paddle'\n",
    "import deepxde as dde\n",
    "import numpy as np\n",
    "import pandas as pd\n",
    "from matplotlib import pyplot as plt\n",
    "\n",
    "# https://deepxde.readthedocs.io/en/latest/modules/deepxde.optimizers.html#module-deepxde.optimizers.config\n",
    "dde.config.set_default_float(\"float64\")\n",
    "\n",
    "dde.config.set_random_seed(42)\n",
    "np.random.seed(42)"
   ]
  },
  {
   "cell_type": "markdown",
   "id": "1714746b-d64e-4f52-a104-d2bdb741e496",
   "metadata": {},
   "source": [
    "## Problema inverso\n",
    "\n",
    "Por se tratar de um problema inverso, em que queremos descobrir o número de Reynolds que gerou os dados disponíveis, definimos um chute inicial e atribuímos a uma variável que terá seu valor modificado ao longo do treinamento da rede."
   ]
  },
  {
   "cell_type": "code",
   "execution_count": 2,
   "id": "52c0cda4-7e49-4a1f-b9c7-2eb8d0d47fa8",
   "metadata": {},
   "outputs": [],
   "source": [
    "Re = 50\n",
    "\n",
    "Re_guess = 10.0\n",
    "\n",
    "ex_Re = dde.Variable(Re_guess)"
   ]
  },
  {
   "cell_type": "markdown",
   "id": "6cba26c0-ebcf-4238-a587-667ea2f43882",
   "metadata": {},
   "source": [
    "## Residual\n",
    "\n",
    "Definimos as equações de Navier-Stokes como um residual a ser minimizado."
   ]
  },
  {
   "cell_type": "code",
   "execution_count": 3,
   "id": "d064ba89-df3b-4e7d-adab-8c1dfb8cf110",
   "metadata": {},
   "outputs": [],
   "source": [
    "def pde(x, y):\n",
    "    \n",
    "    u, v, p = y[:, 0:1], y[:, 1:2], y[:, 2:]\n",
    "    \n",
    "    du_dx = dde.grad.jacobian(y, x, i=0, j=0)\n",
    "    du_dy = dde.grad.jacobian(y, x, i=0, j=1)\n",
    "    \n",
    "    dv_dx = dde.grad.jacobian(y, x, i=1, j=0)\n",
    "    dv_dy = dde.grad.jacobian(y, x, i=1, j=1)\n",
    "    \n",
    "    du_dxx = dde.grad.hessian(y, x, i=0, j=0, component=0)\n",
    "    du_dyy = dde.grad.hessian(y, x, i=1, j=1, component=0)\n",
    "    \n",
    "    dv_dxx = dde.grad.hessian(y, x, i=0, j=0, component=1)\n",
    "    dv_dyy = dde.grad.hessian(y, x, i=1, j=1, component=1)\n",
    "\n",
    "    dp_dx = dde.grad.jacobian(y, x, i=2, j=0)\n",
    "    dp_dy = dde.grad.jacobian(y, x, i=2, j=1)\n",
    "\n",
    "    momentum_x = (\n",
    "        u * du_dx + v * du_dy + dp_dx - 1 / ex_Re * (du_dxx + du_dyy)\n",
    "    )\n",
    "    \n",
    "    momentum_y = (\n",
    "        u * dv_dx + v * dv_dy + dp_dy - 1 / ex_Re * (dv_dxx + dv_dyy)\n",
    "    )\n",
    "    \n",
    "    continuity = du_dx + dv_dy\n",
    "\n",
    "    return [momentum_x, momentum_y, continuity]"
   ]
  },
  {
   "cell_type": "markdown",
   "id": "83206105-6e8d-48f0-b069-82c7b5debac7",
   "metadata": {},
   "source": [
    "## Solução Exata\n",
    "\n",
    "$$\n",
    "\\lambda = \\frac{1}{2v} - \\sqrt{\\frac{1}{4v^{2}} + 4\\pi^{2}}\n",
    "$$\n",
    "\n",
    "$$\n",
    "u = 1 - e^{\\lambda x} cos(2\\pi y), \\quad \n",
    "v = \\frac{\\lambda}{2\\pi}e^{\\lambda x}sin(2\\pi y), \\quad\n",
    "p = \\frac{1}{2}(1 - e^{2\\lambda x})\n",
    "$$"
   ]
  },
  {
   "cell_type": "code",
   "execution_count": 4,
   "id": "595139e8-9277-4926-a443-a66ddf24cd0c",
   "metadata": {},
   "outputs": [],
   "source": [
    "nu = 1 / Re\n",
    "l = 1 / (2 * nu) - np.sqrt(1 / (4 * nu ** 2) + 4 * np.pi ** 2)"
   ]
  },
  {
   "cell_type": "code",
   "execution_count": 5,
   "id": "66819936-1444-4122-a706-dbdf0585f93e",
   "metadata": {},
   "outputs": [],
   "source": [
    "def u_sol(x):\n",
    "    return 1 - np.exp(l * x[:, 0:1]) * np.cos(2 * np.pi * x[:, 1:2])\n",
    "\n",
    "def v_sol(x):\n",
    "    return l / (2 * np.pi) * np.exp(l * x[:, 0:1]) * np.sin(2 * np.pi * x[:, 1:2])\n",
    "\n",
    "def p_sol(x):\n",
    "    return 1 / 2 * (1 - np.exp(2 * l * x[:, 0:1]))"
   ]
  },
  {
   "cell_type": "markdown",
   "id": "de280c41-ba5b-4240-b788-ccc16031a547",
   "metadata": {},
   "source": [
    "## Pertubação nos Dados\n",
    "\n",
    "Adicionamos ruído gaussiano aos dados para testar a resiliência do método."
   ]
  },
  {
   "cell_type": "code",
   "execution_count": 6,
   "id": "89fb410e-affa-4ef6-a225-97f055e6f116",
   "metadata": {},
   "outputs": [],
   "source": [
    "noise_percentage = 0.1"
   ]
  },
  {
   "cell_type": "code",
   "execution_count": 7,
   "id": "0fef1d09-9a8a-4776-8a4a-761084abd8a6",
   "metadata": {},
   "outputs": [],
   "source": [
    "def get_noise(x):\n",
    "    return noise_percentage * np.std(x) * np.random.normal(size=x.shape)\n",
    "\n",
    "def noisy_u_sol(x):\n",
    "    u = u_sol(x)\n",
    "    return u + get_noise(u) \n",
    "\n",
    "def noisy_v_sol(x):\n",
    "    v = v_sol(x)\n",
    "    return v + get_noise(v)\n",
    "\n",
    "def noisy_p_sol(x):\n",
    "    p = p_sol(x)\n",
    "    return p + get_noise(p)"
   ]
  },
  {
   "cell_type": "markdown",
   "id": "07f9b3c0-6141-470c-a6f3-98bdf3fd0b2f",
   "metadata": {},
   "source": [
    "## Condições de fronteira e dados\n",
    "\n",
    "O problema será resolvido dentro de um retângulo: \n",
    "$$\n",
    "-0.5 \\leq x \\leq 1, \\qquad -0.5 \\leq y \\leq 1.5  \n",
    "$$\n"
   ]
  },
  {
   "cell_type": "code",
   "execution_count": 8,
   "id": "15e66f3f-48fa-4c57-913e-8663190f56fd",
   "metadata": {},
   "outputs": [],
   "source": [
    "x0, xf = -0.5, 1\n",
    "y0, yf = -0.5, 1.5"
   ]
  },
  {
   "cell_type": "code",
   "execution_count": 9,
   "id": "96fafa2c-0bfd-463e-a618-adb9778fb42d",
   "metadata": {},
   "outputs": [],
   "source": [
    "def boundary_outflow(x, on_boundary):\n",
    "    return on_boundary and dde.utils.isclose(x[0], xf)\n",
    "\n",
    "spatial_domain = dde.geometry.Rectangle(xmin=[x0, y0], xmax=[xf, yf])\n",
    "\n",
    "u_bc = dde.icbc.DirichletBC(\n",
    "    spatial_domain, u_sol, lambda _, on_boundary: on_boundary, component=0\n",
    ")\n",
    "\n",
    "v_bc = dde.icbc.DirichletBC(\n",
    "    spatial_domain, v_sol, lambda _, on_boundary: on_boundary, component=1\n",
    ")\n",
    "\n",
    "right_p_bc = dde.icbc.DirichletBC(\n",
    "    spatial_domain, p_sol, boundary_outflow, component=2\n",
    ")\n",
    "\n",
    "data_cp = spatial_domain.random_points(1000)\n",
    "\n",
    "noisy_data_u = noisy_u_sol(data_cp)\n",
    "noisy_data_v = noisy_v_sol(data_cp)\n",
    "noisy_data_p = noisy_p_sol(data_cp)\n",
    "\n",
    "noisy_data_u_bc = dde.icbc.PointSetBC(data_cp, noisy_data_u, component=0)\n",
    "noisy_data_v_bc = dde.icbc.PointSetBC(data_cp, noisy_data_v, component=1)\n",
    "noisy_data_p_bc = dde.icbc.PointSetBC(data_cp, noisy_data_p, component=2)"
   ]
  },
  {
   "cell_type": "markdown",
   "id": "87917a6b-c323-4abe-a64f-2f5610c333cf",
   "metadata": {},
   "source": [
    "## Pontos de colocação"
   ]
  },
  {
   "cell_type": "code",
   "execution_count": 10,
   "id": "99e2e0ce-5a2d-4f01-aee4-0ad129240379",
   "metadata": {},
   "outputs": [],
   "source": [
    "num_domain = 2048\n",
    "num_boundary = 400\n",
    "num_test = 512"
   ]
  },
  {
   "cell_type": "code",
   "execution_count": 11,
   "id": "a1b49051-d6b3-408b-9ecb-9bfb01c34554",
   "metadata": {},
   "outputs": [
    {
     "name": "stdout",
     "output_type": "stream",
     "text": [
      "Warning: 512 points required, but 540 points sampled.\n"
     ]
    }
   ],
   "source": [
    "noisy_data = dde.data.PDE(\n",
    "    spatial_domain,\n",
    "    pde,\n",
    "    [\n",
    "        u_bc, v_bc, right_p_bc,\n",
    "        noisy_data_u_bc, noisy_data_v_bc, noisy_data_p_bc\n",
    "    ],\n",
    "    num_domain=num_domain,\n",
    "    num_boundary=num_boundary,\n",
    "    num_test=num_test,\n",
    "    anchors=data_cp\n",
    ")"
   ]
  },
  {
   "cell_type": "markdown",
   "id": "82ad1a91-47b7-4390-ac42-e5f382510e6e",
   "metadata": {},
   "source": [
    "## Definindo as configurações da rede"
   ]
  },
  {
   "cell_type": "code",
   "execution_count": 12,
   "id": "2b8337c3-637f-4697-9608-58a39006acf8",
   "metadata": {},
   "outputs": [],
   "source": [
    "n_hidden_layers = 4\n",
    "nodes_per_layer = 50\n",
    "topology = [2] + n_hidden_layers * [nodes_per_layer] + [3]\n",
    "activation = \"tanh\"\n",
    "initialization = \"Glorot normal\"\n",
    "\n",
    "net = dde.nn.FNN(topology, activation, initialization)\n",
    "\n",
    "noisy_model = dde.Model(noisy_data, net)"
   ]
  },
  {
   "cell_type": "markdown",
   "id": "047bb878-6360-4dc1-9acf-4d90d371e6d8",
   "metadata": {},
   "source": [
    "## Treinando o modelo"
   ]
  },
  {
   "cell_type": "code",
   "execution_count": 13,
   "id": "02524bfa-3505-4c61-8d7d-0411be52fcb4",
   "metadata": {},
   "outputs": [],
   "source": [
    "adam_iterations = 50000"
   ]
  },
  {
   "cell_type": "code",
   "execution_count": 14,
   "id": "f040942d-000e-4742-bb22-497e819dd87f",
   "metadata": {},
   "outputs": [
    {
     "name": "stdout",
     "output_type": "stream",
     "text": [
      "Compiling model...\n",
      "'compile' took 0.000206 s\n",
      "\n",
      "Training model...\n",
      "\n",
      "Step      Train loss                                                                                    Test loss                                                                                     Test metric\n",
      "0         [1.40e-02, 5.64e-02, 2.35e-01, 2.92e+00, 8.72e-02, 1.05e-01, 1.87e+00, 5.39e-02, 9.30e-02]    [1.26e-02, 5.74e-02, 2.40e-01, 2.92e+00, 8.72e-02, 1.05e-01, 1.87e+00, 5.39e-02, 9.30e-02]    []  \n"
     ]
    },
    {
     "ename": "KeyboardInterrupt",
     "evalue": "",
     "output_type": "error",
     "traceback": [
      "\u001b[31m---------------------------------------------------------------------------\u001b[39m",
      "\u001b[31mKeyboardInterrupt\u001b[39m                         Traceback (most recent call last)",
      "\u001b[36mCell\u001b[39m\u001b[36m \u001b[39m\u001b[32mIn[14]\u001b[39m\u001b[32m, line 9\u001b[39m\n\u001b[32m      1\u001b[39m ex_variable_cb = dde.callbacks.VariableValue(\n\u001b[32m      2\u001b[39m     [ex_Re], \n\u001b[32m      3\u001b[39m     period=\u001b[32m1000\u001b[39m, \n\u001b[32m      4\u001b[39m     filename=\u001b[33mf\u001b[39m\u001b[33m\"\u001b[39m\u001b[33m./parameters/Re\u001b[39m\u001b[38;5;132;01m{\u001b[39;00mRe\u001b[38;5;132;01m}\u001b[39;00m\u001b[33m.dat\u001b[39m\u001b[33m\"\u001b[39m\n\u001b[32m      5\u001b[39m )\n\u001b[32m      7\u001b[39m noisy_model.compile(\u001b[33m\"\u001b[39m\u001b[33madam\u001b[39m\u001b[33m\"\u001b[39m, lr=\u001b[32m1e-3\u001b[39m, external_trainable_variables=[ex_Re])\n\u001b[32m----> \u001b[39m\u001b[32m9\u001b[39m losshistory, train_state = noisy_model.train(\n\u001b[32m     10\u001b[39m     iterations=adam_iterations, \n\u001b[32m     11\u001b[39m     display_every=\u001b[32m5000\u001b[39m,\n\u001b[32m     12\u001b[39m     callbacks=[ex_variable_cb])\n",
      "\u001b[36mFile \u001b[39m\u001b[32m~/anaconda3/envs/concap2025NSpinns/lib/python3.13/site-packages/deepxde/utils/internal.py:22\u001b[39m, in \u001b[36mtiming.<locals>.wrapper\u001b[39m\u001b[34m(*args, **kwargs)\u001b[39m\n\u001b[32m     19\u001b[39m \u001b[38;5;129m@wraps\u001b[39m(f)\n\u001b[32m     20\u001b[39m \u001b[38;5;28;01mdef\u001b[39;00m\u001b[38;5;250m \u001b[39m\u001b[34mwrapper\u001b[39m(*args, **kwargs):\n\u001b[32m     21\u001b[39m     ts = timeit.default_timer()\n\u001b[32m---> \u001b[39m\u001b[32m22\u001b[39m     result = f(*args, **kwargs)\n\u001b[32m     23\u001b[39m     te = timeit.default_timer()\n\u001b[32m     24\u001b[39m     verbose = kwargs.get(\u001b[33m'\u001b[39m\u001b[33mverbose\u001b[39m\u001b[33m'\u001b[39m, \u001b[32m1\u001b[39m)\n",
      "\u001b[36mFile \u001b[39m\u001b[32m~/anaconda3/envs/concap2025NSpinns/lib/python3.13/site-packages/deepxde/model.py:704\u001b[39m, in \u001b[36mModel.train\u001b[39m\u001b[34m(self, iterations, batch_size, display_every, disregard_previous_best, callbacks, model_restore_path, model_save_path, epochs, verbose)\u001b[39m\n\u001b[32m    702\u001b[39m     \u001b[38;5;28;01mif\u001b[39;00m iterations \u001b[38;5;129;01mis\u001b[39;00m \u001b[38;5;28;01mNone\u001b[39;00m:\n\u001b[32m    703\u001b[39m         \u001b[38;5;28;01mraise\u001b[39;00m \u001b[38;5;167;01mValueError\u001b[39;00m(\u001b[33m\"\u001b[39m\u001b[33mNo iterations for \u001b[39m\u001b[38;5;132;01m{}\u001b[39;00m\u001b[33m.\u001b[39m\u001b[33m\"\u001b[39m.format(\u001b[38;5;28mself\u001b[39m.opt_name))\n\u001b[32m--> \u001b[39m\u001b[32m704\u001b[39m     \u001b[38;5;28mself\u001b[39m._train_sgd(iterations, display_every, verbose=verbose)\n\u001b[32m    705\u001b[39m \u001b[38;5;28mself\u001b[39m.callbacks.on_train_end()\n\u001b[32m    707\u001b[39m \u001b[38;5;28;01mif\u001b[39;00m verbose > \u001b[32m0\u001b[39m \u001b[38;5;129;01mand\u001b[39;00m config.rank == \u001b[32m0\u001b[39m:\n",
      "\u001b[36mFile \u001b[39m\u001b[32m~/anaconda3/envs/concap2025NSpinns/lib/python3.13/site-packages/deepxde/model.py:722\u001b[39m, in \u001b[36mModel._train_sgd\u001b[39m\u001b[34m(self, iterations, display_every, verbose)\u001b[39m\n\u001b[32m    717\u001b[39m \u001b[38;5;28mself\u001b[39m.callbacks.on_batch_begin()\n\u001b[32m    719\u001b[39m \u001b[38;5;28mself\u001b[39m.train_state.set_data_train(\n\u001b[32m    720\u001b[39m     *\u001b[38;5;28mself\u001b[39m.data.train_next_batch(\u001b[38;5;28mself\u001b[39m.batch_size)\n\u001b[32m    721\u001b[39m )\n\u001b[32m--> \u001b[39m\u001b[32m722\u001b[39m \u001b[38;5;28mself\u001b[39m._train_step(\n\u001b[32m    723\u001b[39m     \u001b[38;5;28mself\u001b[39m.train_state.X_train,\n\u001b[32m    724\u001b[39m     \u001b[38;5;28mself\u001b[39m.train_state.y_train,\n\u001b[32m    725\u001b[39m     \u001b[38;5;28mself\u001b[39m.train_state.train_aux_vars,\n\u001b[32m    726\u001b[39m )\n\u001b[32m    728\u001b[39m \u001b[38;5;28mself\u001b[39m.train_state.iteration += \u001b[32m1\u001b[39m\n\u001b[32m    729\u001b[39m \u001b[38;5;28mself\u001b[39m.train_state.step += \u001b[32m1\u001b[39m\n",
      "\u001b[36mFile \u001b[39m\u001b[32m~/anaconda3/envs/concap2025NSpinns/lib/python3.13/site-packages/deepxde/model.py:607\u001b[39m, in \u001b[36mModel._train_step\u001b[39m\u001b[34m(self, inputs, targets, auxiliary_vars)\u001b[39m\n\u001b[32m    605\u001b[39m     \u001b[38;5;28mself\u001b[39m.sess.run(\u001b[38;5;28mself\u001b[39m.train_step, feed_dict=feed_dict)\n\u001b[32m    606\u001b[39m \u001b[38;5;28;01melif\u001b[39;00m backend_name \u001b[38;5;129;01min\u001b[39;00m [\u001b[33m\"\u001b[39m\u001b[33mtensorflow\u001b[39m\u001b[33m\"\u001b[39m, \u001b[33m\"\u001b[39m\u001b[33mpaddle\u001b[39m\u001b[33m\"\u001b[39m]:\n\u001b[32m--> \u001b[39m\u001b[32m607\u001b[39m     \u001b[38;5;28mself\u001b[39m.train_step(inputs, targets, auxiliary_vars)\n\u001b[32m    608\u001b[39m \u001b[38;5;28;01melif\u001b[39;00m backend_name == \u001b[33m\"\u001b[39m\u001b[33mpytorch\u001b[39m\u001b[33m\"\u001b[39m:\n\u001b[32m    609\u001b[39m     \u001b[38;5;28mself\u001b[39m.train_step(inputs, targets, auxiliary_vars)\n",
      "\u001b[36mFile \u001b[39m\u001b[32m~/anaconda3/envs/concap2025NSpinns/lib/python3.13/site-packages/deepxde/model.py:543\u001b[39m, in \u001b[36mModel._compile_paddle.<locals>.train_step\u001b[39m\u001b[34m(inputs, targets, auxiliary_vars)\u001b[39m\n\u001b[32m    542\u001b[39m \u001b[38;5;28;01mdef\u001b[39;00m\u001b[38;5;250m \u001b[39m\u001b[34mtrain_step\u001b[39m(inputs, targets, auxiliary_vars):\n\u001b[32m--> \u001b[39m\u001b[32m543\u001b[39m     losses = outputs_losses_train(inputs, targets, auxiliary_vars)[\u001b[32m1\u001b[39m]\n\u001b[32m    544\u001b[39m     total_loss = paddle.sum(losses)\n\u001b[32m    545\u001b[39m     total_loss.backward()\n",
      "\u001b[36mFile \u001b[39m\u001b[32m~/anaconda3/envs/concap2025NSpinns/lib/python3.13/site-packages/deepxde/model.py:522\u001b[39m, in \u001b[36mModel._compile_paddle.<locals>.outputs_losses_train\u001b[39m\u001b[34m(inputs, targets, auxiliary_vars)\u001b[39m\n\u001b[32m    521\u001b[39m \u001b[38;5;28;01mdef\u001b[39;00m\u001b[38;5;250m \u001b[39m\u001b[34moutputs_losses_train\u001b[39m(inputs, targets, auxiliary_vars):\n\u001b[32m--> \u001b[39m\u001b[32m522\u001b[39m     \u001b[38;5;28;01mreturn\u001b[39;00m outputs_losses(\n\u001b[32m    523\u001b[39m         \u001b[38;5;28;01mTrue\u001b[39;00m, inputs, targets, auxiliary_vars, \u001b[38;5;28mself\u001b[39m.data.losses_train\n\u001b[32m    524\u001b[39m     )\n",
      "\u001b[36mFile \u001b[39m\u001b[32m~/anaconda3/envs/concap2025NSpinns/lib/python3.13/site-packages/deepxde/model.py:509\u001b[39m, in \u001b[36mModel._compile_paddle.<locals>.outputs_losses\u001b[39m\u001b[34m(training, inputs, targets, auxiliary_vars, losses_fn)\u001b[39m\n\u001b[32m    507\u001b[39m \u001b[38;5;28;01mif\u001b[39;00m targets \u001b[38;5;129;01mis\u001b[39;00m \u001b[38;5;129;01mnot\u001b[39;00m \u001b[38;5;28;01mNone\u001b[39;00m:\n\u001b[32m    508\u001b[39m     targets = paddle.to_tensor(targets)\n\u001b[32m--> \u001b[39m\u001b[32m509\u001b[39m losses = losses_fn(targets, outputs_, loss_fn, inputs, \u001b[38;5;28mself\u001b[39m)\n\u001b[32m    510\u001b[39m \u001b[38;5;28;01mif\u001b[39;00m \u001b[38;5;129;01mnot\u001b[39;00m \u001b[38;5;28misinstance\u001b[39m(losses, \u001b[38;5;28mlist\u001b[39m):\n\u001b[32m    511\u001b[39m     losses = [losses]\n",
      "\u001b[36mFile \u001b[39m\u001b[32m~/anaconda3/envs/concap2025NSpinns/lib/python3.13/site-packages/deepxde/data/data.py:13\u001b[39m, in \u001b[36mData.losses_train\u001b[39m\u001b[34m(self, targets, outputs, loss_fn, inputs, model, aux)\u001b[39m\n\u001b[32m     11\u001b[39m \u001b[38;5;28;01mdef\u001b[39;00m\u001b[38;5;250m \u001b[39m\u001b[34mlosses_train\u001b[39m(\u001b[38;5;28mself\u001b[39m, targets, outputs, loss_fn, inputs, model, aux=\u001b[38;5;28;01mNone\u001b[39;00m):\n\u001b[32m     12\u001b[39m \u001b[38;5;250m    \u001b[39m\u001b[33;03m\"\"\"Return a list of losses for training dataset, i.e., constraints.\"\"\"\u001b[39;00m\n\u001b[32m---> \u001b[39m\u001b[32m13\u001b[39m     \u001b[38;5;28;01mreturn\u001b[39;00m \u001b[38;5;28mself\u001b[39m.losses(targets, outputs, loss_fn, inputs, model, aux=aux)\n",
      "\u001b[36mFile \u001b[39m\u001b[32m~/anaconda3/envs/concap2025NSpinns/lib/python3.13/site-packages/deepxde/data/pde.py:154\u001b[39m, in \u001b[36mPDE.losses\u001b[39m\u001b[34m(self, targets, outputs, loss_fn, inputs, model, aux)\u001b[39m\n\u001b[32m    152\u001b[39m \u001b[38;5;28;01mif\u001b[39;00m \u001b[38;5;28mself\u001b[39m.pde \u001b[38;5;129;01mis\u001b[39;00m \u001b[38;5;129;01mnot\u001b[39;00m \u001b[38;5;28;01mNone\u001b[39;00m:\n\u001b[32m    153\u001b[39m     \u001b[38;5;28;01mif\u001b[39;00m get_num_args(\u001b[38;5;28mself\u001b[39m.pde) == \u001b[32m2\u001b[39m:\n\u001b[32m--> \u001b[39m\u001b[32m154\u001b[39m         f = \u001b[38;5;28mself\u001b[39m.pde(inputs, outputs_pde)\n\u001b[32m    155\u001b[39m     \u001b[38;5;28;01melif\u001b[39;00m get_num_args(\u001b[38;5;28mself\u001b[39m.pde) == \u001b[32m3\u001b[39m:\n\u001b[32m    156\u001b[39m         \u001b[38;5;28;01mif\u001b[39;00m \u001b[38;5;28mself\u001b[39m.auxiliary_var_fn \u001b[38;5;129;01mis\u001b[39;00m \u001b[38;5;129;01mnot\u001b[39;00m \u001b[38;5;28;01mNone\u001b[39;00m:\n",
      "\u001b[36mCell\u001b[39m\u001b[36m \u001b[39m\u001b[32mIn[3]\u001b[39m\u001b[32m, line 11\u001b[39m, in \u001b[36mpde\u001b[39m\u001b[34m(x, y)\u001b[39m\n\u001b[32m      8\u001b[39m dv_dx = dde.grad.jacobian(y, x, i=\u001b[32m1\u001b[39m, j=\u001b[32m0\u001b[39m)\n\u001b[32m      9\u001b[39m dv_dy = dde.grad.jacobian(y, x, i=\u001b[32m1\u001b[39m, j=\u001b[32m1\u001b[39m)\n\u001b[32m---> \u001b[39m\u001b[32m11\u001b[39m du_dxx = dde.grad.hessian(y, x, i=\u001b[32m0\u001b[39m, j=\u001b[32m0\u001b[39m, component=\u001b[32m0\u001b[39m)\n\u001b[32m     12\u001b[39m du_dyy = dde.grad.hessian(y, x, i=\u001b[32m1\u001b[39m, j=\u001b[32m1\u001b[39m, component=\u001b[32m0\u001b[39m)\n\u001b[32m     14\u001b[39m dv_dxx = dde.grad.hessian(y, x, i=\u001b[32m0\u001b[39m, j=\u001b[32m0\u001b[39m, component=\u001b[32m1\u001b[39m)\n",
      "\u001b[36mFile \u001b[39m\u001b[32m~/anaconda3/envs/concap2025NSpinns/lib/python3.13/site-packages/deepxde/gradients/gradients.py:70\u001b[39m, in \u001b[36mhessian\u001b[39m\u001b[34m(ys, xs, component, i, j)\u001b[39m\n\u001b[32m     45\u001b[39m \u001b[38;5;250m\u001b[39m\u001b[33;03m\"\"\"Compute `Hessian matrix <https://en.wikipedia.org/wiki/Hessian_matrix>`_ H as\u001b[39;00m\n\u001b[32m     46\u001b[39m \u001b[33;03mH[i, j] = d^2y / dx_i dx_j, where i,j = 0, ..., dim_x - 1.\u001b[39;00m\n\u001b[32m     47\u001b[39m \n\u001b[32m   (...)\u001b[39m\u001b[32m     67\u001b[39m \u001b[33;03m    the output shape is (batch_size_out, batch_size, 1).\u001b[39;00m\n\u001b[32m     68\u001b[39m \u001b[33;03m\"\"\"\u001b[39;00m\n\u001b[32m     69\u001b[39m \u001b[38;5;28;01mif\u001b[39;00m config.autodiff == \u001b[33m\"\u001b[39m\u001b[33mreverse\u001b[39m\u001b[33m\"\u001b[39m:\n\u001b[32m---> \u001b[39m\u001b[32m70\u001b[39m     \u001b[38;5;28;01mreturn\u001b[39;00m gradients_reverse.hessian(ys, xs, component=component, i=i, j=j)\n\u001b[32m     71\u001b[39m \u001b[38;5;28;01mif\u001b[39;00m config.autodiff == \u001b[33m\"\u001b[39m\u001b[33mforward\u001b[39m\u001b[33m\"\u001b[39m:\n\u001b[32m     72\u001b[39m     \u001b[38;5;28;01mreturn\u001b[39;00m gradients_forward.hessian(ys, xs, component=component, i=i, j=j)\n",
      "\u001b[36mFile \u001b[39m\u001b[32m~/anaconda3/envs/concap2025NSpinns/lib/python3.13/site-packages/deepxde/gradients/gradients_reverse.py:149\u001b[39m, in \u001b[36mhessian\u001b[39m\u001b[34m(ys, xs, component, i, j)\u001b[39m\n\u001b[32m    148\u001b[39m \u001b[38;5;28;01mdef\u001b[39;00m\u001b[38;5;250m \u001b[39m\u001b[34mhessian\u001b[39m(ys, xs, component=\u001b[32m0\u001b[39m, i=\u001b[32m0\u001b[39m, j=\u001b[32m0\u001b[39m):\n\u001b[32m--> \u001b[39m\u001b[32m149\u001b[39m     \u001b[38;5;28;01mreturn\u001b[39;00m hessian._Hessians(ys, xs, component=component, i=i, j=j)\n",
      "\u001b[36mFile \u001b[39m\u001b[32m~/anaconda3/envs/concap2025NSpinns/lib/python3.13/site-packages/deepxde/gradients/gradients_reverse.py:141\u001b[39m, in \u001b[36mHessians.__call__\u001b[39m\u001b[34m(self, ys, xs, component, i, j)\u001b[39m\n\u001b[32m    139\u001b[39m \u001b[38;5;28;01mif\u001b[39;00m key \u001b[38;5;129;01mnot\u001b[39;00m \u001b[38;5;129;01min\u001b[39;00m \u001b[38;5;28mself\u001b[39m.Hs:\n\u001b[32m    140\u001b[39m     \u001b[38;5;28mself\u001b[39m.Hs[key] = Hessian(ys, xs, component=component)\n\u001b[32m--> \u001b[39m\u001b[32m141\u001b[39m \u001b[38;5;28;01mreturn\u001b[39;00m \u001b[38;5;28mself\u001b[39m.Hs[key](i, j)\n",
      "\u001b[36mFile \u001b[39m\u001b[32m~/anaconda3/envs/concap2025NSpinns/lib/python3.13/site-packages/deepxde/gradients/gradients_reverse.py:118\u001b[39m, in \u001b[36mHessian.__call__\u001b[39m\u001b[34m(self, i, j)\u001b[39m\n\u001b[32m    116\u001b[39m \u001b[38;5;28;01mdef\u001b[39;00m\u001b[38;5;250m \u001b[39m\u001b[34m__call__\u001b[39m(\u001b[38;5;28mself\u001b[39m, i=\u001b[32m0\u001b[39m, j=\u001b[32m0\u001b[39m):\n\u001b[32m    117\u001b[39m \u001b[38;5;250m    \u001b[39m\u001b[33;03m\"\"\"Returns H[`i`, `j`].\"\"\"\u001b[39;00m\n\u001b[32m--> \u001b[39m\u001b[32m118\u001b[39m     \u001b[38;5;28;01mreturn\u001b[39;00m \u001b[38;5;28mself\u001b[39m.H(j, i)\n",
      "\u001b[36mFile \u001b[39m\u001b[32m~/anaconda3/envs/concap2025NSpinns/lib/python3.13/site-packages/deepxde/gradients/gradients_reverse.py:56\u001b[39m, in \u001b[36mJacobianReverse.__call__\u001b[39m\u001b[34m(self, i, j)\u001b[39m\n\u001b[32m     54\u001b[39m     \u001b[38;5;28;01melif\u001b[39;00m backend_name == \u001b[33m\"\u001b[39m\u001b[33mpaddle\u001b[39m\u001b[33m\"\u001b[39m:\n\u001b[32m     55\u001b[39m         y = \u001b[38;5;28mself\u001b[39m.ys[:, i : i + \u001b[32m1\u001b[39m] \u001b[38;5;28;01mif\u001b[39;00m \u001b[38;5;28mself\u001b[39m.dim_y > \u001b[32m1\u001b[39m \u001b[38;5;28;01melse\u001b[39;00m \u001b[38;5;28mself\u001b[39m.ys\n\u001b[32m---> \u001b[39m\u001b[32m56\u001b[39m         \u001b[38;5;28mself\u001b[39m.J[i] = paddle.grad(y, \u001b[38;5;28mself\u001b[39m.xs, create_graph=\u001b[38;5;28;01mTrue\u001b[39;00m)[\u001b[32m0\u001b[39m]\n\u001b[32m     58\u001b[39m \u001b[38;5;28;01mif\u001b[39;00m j \u001b[38;5;129;01mis\u001b[39;00m \u001b[38;5;28;01mNone\u001b[39;00m \u001b[38;5;129;01mor\u001b[39;00m \u001b[38;5;28mself\u001b[39m.dim_x == \u001b[32m1\u001b[39m:\n\u001b[32m     59\u001b[39m     \u001b[38;5;28;01mreturn\u001b[39;00m \u001b[38;5;28mself\u001b[39m.J[i]\n",
      "\u001b[36mFile \u001b[39m\u001b[32m~/anaconda3/envs/concap2025NSpinns/lib/python3.13/site-packages/decorator.py:232\u001b[39m, in \u001b[36mdecorate.<locals>.fun\u001b[39m\u001b[34m(*args, **kw)\u001b[39m\n\u001b[32m    230\u001b[39m \u001b[38;5;28;01mif\u001b[39;00m \u001b[38;5;129;01mnot\u001b[39;00m kwsyntax:\n\u001b[32m    231\u001b[39m     args, kw = fix(args, kw, sig)\n\u001b[32m--> \u001b[39m\u001b[32m232\u001b[39m \u001b[38;5;28;01mreturn\u001b[39;00m caller(func, *(extras + args), **kw)\n",
      "\u001b[36mFile \u001b[39m\u001b[32m~/anaconda3/envs/concap2025NSpinns/lib/python3.13/site-packages/paddle/base/wrapped_decorator.py:40\u001b[39m, in \u001b[36mwrap_decorator.<locals>.__impl__\u001b[39m\u001b[34m(func, *args, **kwargs)\u001b[39m\n\u001b[32m     33\u001b[39m \u001b[38;5;129m@decorator\u001b[39m.decorator\n\u001b[32m     34\u001b[39m \u001b[38;5;28;01mdef\u001b[39;00m\u001b[38;5;250m \u001b[39m\u001b[34m__impl__\u001b[39m(\n\u001b[32m     35\u001b[39m     func: Callable[_InputT, _RetT1],\n\u001b[32m     36\u001b[39m     *args: _InputT.args,\n\u001b[32m     37\u001b[39m     **kwargs: _InputT.kwargs,\n\u001b[32m     38\u001b[39m ) -> _RetT2:\n\u001b[32m     39\u001b[39m     wrapped_func = decorator_func(func)\n\u001b[32m---> \u001b[39m\u001b[32m40\u001b[39m     \u001b[38;5;28;01mreturn\u001b[39;00m wrapped_func(*args, **kwargs)\n",
      "\u001b[36mFile \u001b[39m\u001b[32m~/anaconda3/envs/concap2025NSpinns/lib/python3.13/site-packages/paddle/base/framework.py:718\u001b[39m, in \u001b[36m_non_static_only_.<locals>.__impl__\u001b[39m\u001b[34m(*args, **kwargs)\u001b[39m\n\u001b[32m    713\u001b[39m \u001b[38;5;28;01mfrom\u001b[39;00m\u001b[38;5;250m \u001b[39m\u001b[34;01m.\u001b[39;00m\u001b[34;01mdygraph\u001b[39;00m\u001b[34;01m.\u001b[39;00m\u001b[34;01mbase\u001b[39;00m\u001b[38;5;250m \u001b[39m\u001b[38;5;28;01mimport\u001b[39;00m in_to_static_mode\n\u001b[32m    715\u001b[39m \u001b[38;5;28;01massert\u001b[39;00m (\n\u001b[32m    716\u001b[39m     in_dygraph_mode() \u001b[38;5;129;01mor\u001b[39;00m in_to_static_mode()\n\u001b[32m    717\u001b[39m ), \u001b[33mf\u001b[39m\u001b[33m\"\u001b[39m\u001b[33mWe only support \u001b[39m\u001b[33m'\u001b[39m\u001b[38;5;132;01m{\u001b[39;00mfunc.\u001b[34m__name__\u001b[39m\u001b[38;5;132;01m}\u001b[39;00m\u001b[33m()\u001b[39m\u001b[33m'\u001b[39m\u001b[33m in dynamic graph mode, please call \u001b[39m\u001b[33m'\u001b[39m\u001b[33mpaddle.disable_static()\u001b[39m\u001b[33m'\u001b[39m\u001b[33m to enter dynamic graph mode.\u001b[39m\u001b[33m\"\u001b[39m\n\u001b[32m--> \u001b[39m\u001b[32m718\u001b[39m \u001b[38;5;28;01mreturn\u001b[39;00m func(*args, **kwargs)\n",
      "\u001b[36mFile \u001b[39m\u001b[32m~/anaconda3/envs/concap2025NSpinns/lib/python3.13/site-packages/paddle/base/dygraph/base.py:880\u001b[39m, in \u001b[36mgrad\u001b[39m\u001b[34m(outputs, inputs, grad_outputs, retain_graph, create_graph, only_inputs, allow_unused, no_grad_vars)\u001b[39m\n\u001b[32m    877\u001b[39m \u001b[38;5;28;01massert\u001b[39;00m \u001b[38;5;28misinstance\u001b[39m(only_inputs, \u001b[38;5;28mbool\u001b[39m), \u001b[33m\"\u001b[39m\u001b[33monly_inputs must be True or False\u001b[39m\u001b[33m\"\u001b[39m\n\u001b[32m    878\u001b[39m \u001b[38;5;28;01massert\u001b[39;00m only_inputs, \u001b[33m\"\u001b[39m\u001b[33monly_inputs=False is not supported yet\u001b[39m\u001b[33m\"\u001b[39m\n\u001b[32m--> \u001b[39m\u001b[32m880\u001b[39m \u001b[38;5;28;01mreturn\u001b[39;00m core.eager.run_partial_grad(\n\u001b[32m    881\u001b[39m     outputs,\n\u001b[32m    882\u001b[39m     inputs,\n\u001b[32m    883\u001b[39m     grad_outputs,\n\u001b[32m    884\u001b[39m     retain_graph,\n\u001b[32m    885\u001b[39m     create_graph,\n\u001b[32m    886\u001b[39m     only_inputs,\n\u001b[32m    887\u001b[39m     allow_unused,\n\u001b[32m    888\u001b[39m     no_grad_vars,\n\u001b[32m    889\u001b[39m )\n",
      "\u001b[31mKeyboardInterrupt\u001b[39m: "
     ]
    }
   ],
   "source": [
    "ex_variable_cb = dde.callbacks.VariableValue(\n",
    "    [ex_Re], \n",
    "    period=1000, \n",
    "    filename=f\"./parameters/Re{Re}.dat\"\n",
    ")\n",
    "\n",
    "noisy_model.compile(\"adam\", lr=1e-3, external_trainable_variables=[ex_Re])\n",
    "\n",
    "losshistory, train_state = noisy_model.train(\n",
    "    iterations=adam_iterations, \n",
    "    display_every=5000,\n",
    "    callbacks=[ex_variable_cb])"
   ]
  },
  {
   "cell_type": "markdown",
   "id": "0fcf3f71-862f-4b20-929c-aa36e9cd3609",
   "metadata": {},
   "source": [
    "## Salvando o modelo"
   ]
  },
  {
   "cell_type": "code",
   "execution_count": null,
   "id": "f51000df-0fdb-47af-bba6-eddcecf3db34",
   "metadata": {},
   "outputs": [],
   "source": [
    "dde.saveplot(\n",
    "    losshistory, \n",
    "    train_state, \n",
    "    issave=True, \n",
    "    isplot=False, \n",
    "    output_dir=\"./losses\", \n",
    "    loss_fname=f\"Re{Re}-loss\",\n",
    "    train_fname=f\"Re{Re}-train\",\n",
    "    test_fname=f\"Re{Re}-test\")\n",
    "\n",
    "noisy_model.save(f\"./models/Re{Re}\")"
   ]
  },
  {
   "cell_type": "markdown",
   "id": "49807afe-b056-4fad-9775-9a269fc578b2",
   "metadata": {},
   "source": [
    "## Visualizando resultados"
   ]
  },
  {
   "cell_type": "code",
   "execution_count": null,
   "id": "5f13d5bc-0572-4e88-9941-441c42a595af",
   "metadata": {},
   "outputs": [],
   "source": [
    "\n",
    "def plot_and_save_losses(losshistory, fig_name):\n",
    "    \n",
    "    X = losshistory.steps\n",
    "    train = np.sum(losshistory.loss_train, axis=1)\n",
    "    test = np.sum(losshistory.loss_test, axis=1)\n",
    "    \n",
    "    plt.semilogy(X, train, \"o-\", label=\"Treinamento\", linewidth=2)\n",
    "    plt.semilogy(X, test, \"x-\", label=\"Teste\", linewidth=2)\n",
    "    \n",
    "    plt.xlabel(\"Iteração\")\n",
    "    plt.ylabel(\"Erro em escala logarítmica\")\n",
    "    \n",
    "    plt.legend()\n",
    "    plt.grid()\n",
    "    plt.savefig(f\"./images/{fig_name}.png\")\n",
    "    plt.show()\n",
    "\n",
    "\n",
    "def plot_parameter_approximation(path, real_value, fig_name):\n",
    "    \n",
    "    def parse_line(line):\n",
    "        match = re.match(r'(\\S+)\\s*\\[(\\S+)\\]', line.strip())\n",
    "        if match:\n",
    "            return [float(x) for x in match.groups()]\n",
    "        return None \n",
    "    \n",
    "    with open(path, 'r') as f:\n",
    "        parsed_data = [parse_line(line) for line in f if not line.startswith('#') and line.strip()]\n",
    "        parsed_data = [x for x in parsed_data if x is not None]\n",
    "\n",
    "    df = pd.DataFrame(parsed_data, columns=['x', 'y'])\n",
    "    \n",
    "    iterations = df['x'].values\n",
    "    reynolds = df['y'].values\n",
    "    \n",
    "    plt.plot(iterations, reynolds, color=\"blue\", linewidth=2, linestyle='--', marker=\"o\", markersize=5, label=r\"$Re$ estimado\")\n",
    "    plt.axhline(y=real_value, color='r', label=r\"$Re$ real\")\n",
    "    \n",
    "    plt.xlabel(\"iteração\")\n",
    "    plt.ylabel(r\"$Re$\")\n",
    "\n",
    "    plt.grid()\n",
    "    plt.legend()\n",
    "    plt.savefig(f\"./images/{fig_name}.png\")\n",
    "    plt.show()\n",
    "\n",
    "def plot_3d_projection(surface, title):\n",
    "    fig, ax = plt.subplots(subplot_kw={\"projection\": \"3d\"})\n",
    "    ax.plot_surface(Y, X, surface, vmin=surface.min() * 2, cmap=\"viridis\")\n",
    "    plt.xlabel(\"x\")\n",
    "    plt.ylabel(\"y\")\n",
    "    plt.title(title)\n",
    "    plt.savefig(f\"./images/{title}-{Re}.png\")\n",
    "    plt.show()"
   ]
  },
  {
   "cell_type": "markdown",
   "id": "9277c63c-acc1-4c91-8ab7-2af7d10a76b3",
   "metadata": {},
   "source": [
    "### Valor estimado"
   ]
  },
  {
   "cell_type": "code",
   "execution_count": null,
   "id": "12ea318b-3cae-4589-aea5-c74527d4ff19",
   "metadata": {},
   "outputs": [],
   "source": [
    "ex_Re.cpu().numpy()"
   ]
  },
  {
   "cell_type": "markdown",
   "id": "b0f27684-c275-437a-9000-a9f331de459f",
   "metadata": {},
   "source": [
    "### Gráficos"
   ]
  },
  {
   "cell_type": "code",
   "execution_count": null,
   "id": "8447708d-d13d-4a67-af58-d41fa9f057a8",
   "metadata": {},
   "outputs": [],
   "source": [
    "#noisy_model.restore(f\"./models/Re{Re}-{adam_iterations + lbfgs_iterations}\")"
   ]
  },
  {
   "cell_type": "code",
   "execution_count": null,
   "id": "df827e35-3e6b-491e-abe1-c8523cacd66f",
   "metadata": {},
   "outputs": [],
   "source": [
    "plot_parameter_approximation(f\"./parameters/Re{Re}.dat\", Re, f\"Re{Re}-valores-re\")"
   ]
  },
  {
   "cell_type": "code",
   "execution_count": null,
   "id": "e3566ee3-bd2a-4968-b95f-a465a779725b",
   "metadata": {},
   "outputs": [],
   "source": [
    "plot_and_save_losses(losshistory, f\"Re{Re}-loss\")"
   ]
  },
  {
   "cell_type": "markdown",
   "id": "baa91ded-60f8-4e3c-a20c-195419d244e5",
   "metadata": {},
   "source": [
    "## Comparando resultados"
   ]
  },
  {
   "cell_type": "markdown",
   "id": "559fad6a-14d1-4a38-8766-ab0709dcfda7",
   "metadata": {},
   "source": [
    "### Visualizando superfícies"
   ]
  },
  {
   "cell_type": "code",
   "execution_count": null,
   "id": "4e9f3d56-8dbe-46f5-b2a7-d4a9617b8b8a",
   "metadata": {},
   "outputs": [],
   "source": [
    "#noisy_model.restore(f\"./models/Re{Re}-noisy-{adam_iterations + lbfgs_iterations}.pdparams\")"
   ]
  },
  {
   "cell_type": "code",
   "execution_count": null,
   "id": "01576e27-bd08-4371-b356-20fb873cffed",
   "metadata": {},
   "outputs": [],
   "source": [
    "nop = 100\n",
    "\n",
    "X = np.linspace(-0.5, 1, nop)\n",
    "Y = np.linspace(-0.5, 1.5, nop)\n",
    "\n",
    "X, Y = np.meshgrid(X, Y)\n",
    "XY = np.vstack((X.flatten(), Y.flatten())).T"
   ]
  },
  {
   "cell_type": "code",
   "execution_count": null,
   "id": "dfb000f8-5e98-4e08-9daa-825fc20a7910",
   "metadata": {},
   "outputs": [],
   "source": [
    "predicted_values = noisy_model.predict(XY)\n",
    "\n",
    "u_predicted = predicted_values[:,0].reshape((nop, nop))\n",
    "v_predicted = predicted_values[:,1].reshape((nop, nop))\n",
    "p_predicted = predicted_values[:,2].reshape((nop, nop))"
   ]
  },
  {
   "cell_type": "code",
   "execution_count": null,
   "id": "478720bf-9b92-4f32-b3a1-9a0cacba2aab",
   "metadata": {},
   "outputs": [],
   "source": [
    "u_real = u_sol(XY).reshape((nop, nop))\n",
    "u_noisy = noisy_u_sol(XY).reshape((nop, nop))\n",
    "\n",
    "v_real = v_sol(XY).reshape((nop, nop))\n",
    "v_noisy = noisy_v_sol(XY).reshape((nop, nop))\n",
    "\n",
    "p_real = p_sol(XY).reshape((nop, nop))\n",
    "p_noisy = noisy_p_sol(XY).reshape((nop, nop))"
   ]
  },
  {
   "cell_type": "code",
   "execution_count": null,
   "id": "6a290247-f86f-44bc-8c2e-55334a7b8d7e",
   "metadata": {},
   "outputs": [],
   "source": [
    "plot_3d_projection(u_real, r\"$u$ real\")"
   ]
  },
  {
   "cell_type": "code",
   "execution_count": null,
   "id": "90f40ad5-fa77-416b-9c42-7d7ce16a3145",
   "metadata": {},
   "outputs": [],
   "source": [
    "plot_3d_projection(u_noisy, r\"$u$ com ruído\")"
   ]
  },
  {
   "cell_type": "code",
   "execution_count": null,
   "id": "0e4b2d5d-231b-48ac-8c17-86799c5bf530",
   "metadata": {},
   "outputs": [],
   "source": [
    "plot_3d_projection(u_predicted, r\"$u$ aproximado\")"
   ]
  },
  {
   "cell_type": "code",
   "execution_count": null,
   "id": "49029256-b910-4ac9-b279-38ad55dca70b",
   "metadata": {},
   "outputs": [],
   "source": [
    "plot_3d_projection(v_real, r\"$v$ real\")"
   ]
  },
  {
   "cell_type": "code",
   "execution_count": null,
   "id": "63c38715-8d6e-4140-ac10-d336145065a5",
   "metadata": {},
   "outputs": [],
   "source": [
    "plot_3d_projection(v_noisy, r\"$v$ com ruído\")"
   ]
  },
  {
   "cell_type": "code",
   "execution_count": null,
   "id": "582adec8-fe7a-40a9-aee5-56ed7c9ddb01",
   "metadata": {},
   "outputs": [],
   "source": [
    "plot_3d_projection(v_predicted, r\"$v$ aproximado\")"
   ]
  },
  {
   "cell_type": "code",
   "execution_count": null,
   "id": "a03c10bb-90e4-4d7f-ac0a-958b19395663",
   "metadata": {},
   "outputs": [],
   "source": [
    "plot_3d_projection(p_real, r\"$p$ real\")"
   ]
  },
  {
   "cell_type": "code",
   "execution_count": null,
   "id": "b3f0a534-d751-4a33-8895-e4b464339bc0",
   "metadata": {},
   "outputs": [],
   "source": [
    "plot_3d_projection(p_noisy, r\"$p$ com ruído\")"
   ]
  },
  {
   "cell_type": "code",
   "execution_count": 33,
   "id": "d5da1594-fdf6-4799-b4dd-fbbc4d6cbd79",
   "metadata": {},
   "outputs": [
    {
     "data": {
      "image/png": "[encoded data removed]",
      "text/plain": [
       "<Figure size 640x480 with 1 Axes>"
      ]
     },
     "metadata": {},
     "output_type": "display_data"
    }
   ],
   "source": [
    "plot_3d_projection(p_predicted, r\"$p$ aproximado\")"
   ]
  },
  {
   "cell_type": "markdown",
   "id": "ec9897ff-554d-4af3-a76f-a67b6d7bb408",
   "metadata": {},
   "source": [
    "## Métricas"
   ]
  },
  {
   "cell_type": "markdown",
   "id": "b2d16d92-abce-4481-bc18-ff9347167eac",
   "metadata": {},
   "source": [
    "### MSE"
   ]
  },
  {
   "cell_type": "code",
   "execution_count": 34,
   "id": "fb01113d-a08e-407b-a030-1f28b48f55d8",
   "metadata": {},
   "outputs": [
    {
     "data": {
      "text/plain": [
       "0.00012744872609993574"
      ]
     },
     "execution_count": 34,
     "metadata": {},
     "output_type": "execute_result"
    }
   ],
   "source": [
    "dde.metrics.mean_squared_error(u_real, u_predicted)"
   ]
  },
  {
   "cell_type": "code",
   "execution_count": 35,
   "id": "ede347a0-12c6-454d-85d1-efdf9248feac",
   "metadata": {},
   "outputs": [
    {
     "data": {
      "text/plain": [
       "1.7278994359240617e-05"
      ]
     },
     "execution_count": 35,
     "metadata": {},
     "output_type": "execute_result"
    }
   ],
   "source": [
    "dde.metrics.mean_squared_error(v_real, v_predicted)"
   ]
  },
  {
   "cell_type": "code",
   "execution_count": 36,
   "id": "61631dd4-b755-4243-b090-10ec4399da34",
   "metadata": {},
   "outputs": [
    {
     "data": {
      "text/plain": [
       "4.739044569134023e-05"
      ]
     },
     "execution_count": 36,
     "metadata": {},
     "output_type": "execute_result"
    }
   ],
   "source": [
    "dde.metrics.mean_squared_error(p_real, p_predicted)"
   ]
  },
  {
   "cell_type": "markdown",
   "id": "e7b9805c-1aac-40df-b65a-0c8abbccdeb6",
   "metadata": {},
   "source": [
    "### MAPE"
   ]
  },
  {
   "cell_type": "code",
   "execution_count": 37,
   "id": "c104f197-f08d-44b0-a5e8-2e6904eea5f7",
   "metadata": {},
   "outputs": [
    {
     "data": {
      "text/plain": [
       "np.float64(17.361060824130213)"
      ]
     },
     "execution_count": 37,
     "metadata": {},
     "output_type": "execute_result"
    }
   ],
   "source": [
    "dde.metrics.mean_absolute_percentage_error(u_real, u_predicted)"
   ]
  },
  {
   "cell_type": "code",
   "execution_count": 38,
   "id": "793feb18-13b3-415d-a900-dc49874a4d35",
   "metadata": {},
   "outputs": [
    {
     "data": {
      "text/plain": [
       "np.float64(33135918223329.727)"
      ]
     },
     "execution_count": 38,
     "metadata": {},
     "output_type": "execute_result"
    }
   ],
   "source": [
    "dde.metrics.mean_absolute_percentage_error(v_real, v_predicted)"
   ]
  },
  {
   "cell_type": "code",
   "execution_count": 39,
   "id": "5985428f-9ba3-4a6f-9cc0-8d8f9472da8e",
   "metadata": {},
   "outputs": [
    {
     "data": {
      "text/plain": [
       "np.float64(29782475271043.08)"
      ]
     },
     "execution_count": 39,
     "metadata": {},
     "output_type": "execute_result"
    }
   ],
   "source": [
    "dde.metrics.mean_absolute_percentage_error(p_real, p_predicted)"
   ]
  },
  {
   "cell_type": "markdown",
   "id": "1e80d98d-6ff1-455e-aa01-6b423c6073a4",
   "metadata": {},
   "source": [
    "### Acurácia"
   ]
  },
  {
   "cell_type": "code",
   "execution_count": 40,
   "id": "bb294bf4-a254-449f-b217-2ea210fa64a7",
   "metadata": {},
   "outputs": [
    {
     "data": {
      "text/plain": [
       "np.float64(1.0)"
      ]
     },
     "execution_count": 40,
     "metadata": {},
     "output_type": "execute_result"
    }
   ],
   "source": [
    "dde.metrics.accuracy(u_real, u_predicted)"
   ]
  },
  {
   "cell_type": "code",
   "execution_count": 41,
   "id": "7c5a5ef3-2bb0-4417-8175-30f3fabdeac8",
   "metadata": {},
   "outputs": [
    {
     "data": {
      "text/plain": [
       "np.float64(0.96)"
      ]
     },
     "execution_count": 41,
     "metadata": {},
     "output_type": "execute_result"
    }
   ],
   "source": [
    "dde.metrics.accuracy(v_real, v_predicted)"
   ]
  },
  {
   "cell_type": "code",
   "execution_count": 42,
   "id": "786cc7cb-8048-43b2-a6ef-f23e9a7beebc",
   "metadata": {},
   "outputs": [
    {
     "data": {
      "text/plain": [
       "np.float64(1.0)"
      ]
     },
     "execution_count": 42,
     "metadata": {},
     "output_type": "execute_result"
    }
   ],
   "source": [
    "dde.metrics.accuracy(p_real, p_predicted)"
   ]
  },
  {
   "cell_type": "markdown",
   "id": "c57f8f5f-2764-4fad-b8aa-a9c2b41ab28d",
   "metadata": {},
   "source": [
    "### L2"
   ]
  },
  {
   "cell_type": "code",
   "execution_count": 43,
   "id": "6545fc64-ce93-4b7f-96f3-1093dd91d7b1",
   "metadata": {},
   "outputs": [
    {
     "data": {
      "text/plain": [
       "np.float64(0.009392687370417268)"
      ]
     },
     "execution_count": 43,
     "metadata": {},
     "output_type": "execute_result"
    }
   ],
   "source": [
    "dde.metrics.l2_relative_error(u_real, u_predicted)"
   ]
  },
  {
   "cell_type": "code",
   "execution_count": 44,
   "id": "ed649928-43a9-468a-9b78-f64d58191329",
   "metadata": {},
   "outputs": [
    {
     "data": {
      "text/plain": [
       "np.float64(0.05191374372854159)"
      ]
     },
     "execution_count": 44,
     "metadata": {},
     "output_type": "execute_result"
    }
   ],
   "source": [
    "dde.metrics.l2_relative_error(v_real, v_predicted)"
   ]
  },
  {
   "cell_type": "code",
   "execution_count": 45,
   "id": "8b470fd6-dd91-478f-ad2d-32e3d54ec7d1",
   "metadata": {},
   "outputs": [
    {
     "data": {
      "text/plain": [
       "np.float64(0.024053906340192003)"
      ]
     },
     "execution_count": 45,
     "metadata": {},
     "output_type": "execute_result"
    }
   ],
   "source": [
    "dde.metrics.l2_relative_error(p_real, p_predicted)"
   ]
  },
  {
   "cell_type": "markdown",
   "id": "69909c0c-4d1d-490e-9be3-cf170525a170",
   "metadata": {},
   "source": [
    "### L-Infinity"
   ]
  },
  {
   "cell_type": "code",
   "execution_count": 46,
   "id": "09192918-cd4f-46d3-8728-231ad9e78372",
   "metadata": {},
   "outputs": [
    {
     "data": {
      "text/plain": [
       "np.float64(0.028314775541914416)"
      ]
     },
     "execution_count": 46,
     "metadata": {},
     "output_type": "execute_result"
    }
   ],
   "source": [
    "np.max(np.abs(u_real - u_predicted))"
   ]
  },
  {
   "cell_type": "code",
   "execution_count": 47,
   "id": "2b1e3219-9124-4904-90fc-88e28b8f1f44",
   "metadata": {},
   "outputs": [
    {
     "data": {
      "text/plain": [
       "np.float64(0.010177674252414337)"
      ]
     },
     "execution_count": 47,
     "metadata": {},
     "output_type": "execute_result"
    }
   ],
   "source": [
    "np.max(np.abs(v_real - v_predicted))"
   ]
  },
  {
   "cell_type": "code",
   "execution_count": 48,
   "id": "e24db206-5a1f-4bba-9e31-db17c3324f3f",
   "metadata": {},
   "outputs": [
    {
     "data": {
      "text/plain": [
       "np.float64(0.014829737059045223)"
      ]
     },
     "execution_count": 48,
     "metadata": {},
     "output_type": "execute_result"
    }
   ],
   "source": [
    "np.max(np.abs(p_real - p_predicted))"
   ]
  },
  {
   "cell_type": "code",
   "execution_count": null,
   "id": "75345161-862e-437c-a176-d99448d1a9c0",
   "metadata": {},
   "outputs": [],
   "source": []
  }
 ],
 "metadata": {
  "kernelspec": {
   "display_name": "Python 3 (ipykernel)",
   "language": "python",
   "name": "python3"
  },
  "language_info": {
   "codemirror_mode": {
    "name": "ipython",
    "version": 3
   },
   "file_extension": ".py",
   "mimetype": "text/x-python",
   "name": "python",
   "nbconvert_exporter": "python",
   "pygments_lexer": "ipython3",
   "version": "3.13.5"
  }
 },
 "nbformat": 4,
 "nbformat_minor": 5
}
