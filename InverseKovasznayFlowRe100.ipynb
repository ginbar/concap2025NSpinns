{
 "cells": [
  {
   "cell_type": "markdown",
   "id": "2de8f51f-dd2b-467a-893e-48289228bae7",
   "metadata": {},
   "source": [
    "# Fluxo de Kovasznay Inverso\n",
    "---"
   ]
  },
  {
   "cell_type": "code",
   "execution_count": 1,
   "id": "caa7dcc7-5207-4321-9988-72e04563fb8d",
   "metadata": {},
   "outputs": [
    {
     "name": "stderr",
     "output_type": "stream",
     "text": [
      "which: no ccache in (/home/gabriel/anaconda3/envs/concap2025NSpinns/bin:/home/gabriel/anaconda3/condabin:/home/gabriel/.local/bin:/usr/local/sbin:/usr/local/bin:/usr/bin:/usr/lib/jvm/default/bin:/usr/bin/site_perl:/usr/bin/vendor_perl:/usr/bin/core_perl:/home/gabriel/.dotnet/tools)\n",
      "/home/gabriel/anaconda3/envs/concap2025NSpinns/lib/python3.13/site-packages/paddle/utils/cpp_extension/extension_utils.py:711: UserWarning: No ccache found. Please be aware that recompiling all source files may be required. You can download and install ccache from: https://github.com/ccache/ccache/blob/master/doc/INSTALL.md\n",
      "  warnings.warn(warning_message)\n",
      "Using backend: paddle\n",
      "Other supported backends: tensorflow.compat.v1, tensorflow, pytorch, jax.\n",
      "paddle supports more examples now and is recommended.\n"
     ]
    }
   ],
   "source": [
    "import os\n",
    "import re\n",
    "os.environ['DDE_BACKEND'] = 'paddle'\n",
    "import deepxde as dde\n",
    "import numpy as np\n",
    "import pandas as pd\n",
    "from matplotlib import pyplot as plt\n",
    "\n",
    "# For experiments reproductibility\n",
    "dde.config.set_random_seed(42)\n",
    "np.random.seed(42)"
   ]
  },
  {
   "cell_type": "markdown",
   "id": "1714746b-d64e-4f52-a104-d2bdb741e496",
   "metadata": {},
   "source": [
    "## Problema inverso\n",
    "\n",
    "Por se tratar de um problema inverso, em que queremos descobrir o número de Reynolds que gerou os dados disponíveis, definimos um chute inicial e atribuímos a uma variável que terá seu valor modificado ao longo do treinamento da rede."
   ]
  },
  {
   "cell_type": "code",
   "execution_count": 2,
   "id": "52c0cda4-7e49-4a1f-b9c7-2eb8d0d47fa8",
   "metadata": {},
   "outputs": [],
   "source": [
    "Re = 100\n",
    "\n",
    "Re_guess = 10.0\n",
    "\n",
    "ex_Re = dde.Variable(Re_guess)"
   ]
  },
  {
   "cell_type": "markdown",
   "id": "6cba26c0-ebcf-4238-a587-667ea2f43882",
   "metadata": {},
   "source": [
    "## Residual\n",
    "\n",
    "Definimos as equações de Navier-Stokes como um residual a ser minimizado."
   ]
  },
  {
   "cell_type": "code",
   "execution_count": 3,
   "id": "d064ba89-df3b-4e7d-adab-8c1dfb8cf110",
   "metadata": {},
   "outputs": [],
   "source": [
    "def pde(x, y):\n",
    "    \n",
    "    u, v, p = y[:, 0:1], y[:, 1:2], y[:, 2:]\n",
    "    \n",
    "    du_dx = dde.grad.jacobian(y, x, i=0, j=0)\n",
    "    du_dy = dde.grad.jacobian(y, x, i=0, j=1)\n",
    "    \n",
    "    dv_dx = dde.grad.jacobian(y, x, i=1, j=0)\n",
    "    dv_dy = dde.grad.jacobian(y, x, i=1, j=1)\n",
    "    \n",
    "    du_dxx = dde.grad.hessian(y, x, i=0, j=0, component=0)\n",
    "    du_dyy = dde.grad.hessian(y, x, i=1, j=1, component=0)\n",
    "    \n",
    "    dv_dxx = dde.grad.hessian(y, x, i=0, j=0, component=1)\n",
    "    dv_dyy = dde.grad.hessian(y, x, i=1, j=1, component=1)\n",
    "\n",
    "    dp_dx = dde.grad.jacobian(y, x, i=2, j=0)\n",
    "    dp_dy = dde.grad.jacobian(y, x, i=2, j=1)\n",
    "\n",
    "    momentum_x = (\n",
    "        u * du_dx + v * du_dy + dp_dx - 1 / ex_Re * (du_dxx + du_dyy)\n",
    "    )\n",
    "    \n",
    "    momentum_y = (\n",
    "        u * dv_dx + v * dv_dy + dp_dy - 1 / ex_Re * (dv_dxx + dv_dyy)\n",
    "    )\n",
    "    \n",
    "    continuity = du_dx + dv_dy\n",
    "\n",
    "    return [momentum_x, momentum_y, continuity]"
   ]
  },
  {
   "cell_type": "markdown",
   "id": "83206105-6e8d-48f0-b069-82c7b5debac7",
   "metadata": {},
   "source": [
    "## Solução Exata\n",
    "\n",
    "\n",
    "Para a condição de fronteira:\n",
    "$$\n",
    "u(x, y) = 0\n",
    "$$\n",
    "\n",
    "O fluxo de Kovasznay possui as seguintes soluções exatas:\n",
    "\n",
    "$$\n",
    "u = 1 - e^{\\lambda x} cos(2\\pi y), \\quad \n",
    "v = \\frac{\\lambda}{2\\pi}e^{\\lambda x}sin(2\\pi x), \\quad\n",
    "p = \\frac{1}{2}(1 - e^{2\\lambda x})\n",
    "$$"
   ]
  },
  {
   "cell_type": "code",
   "execution_count": 4,
   "id": "595139e8-9277-4926-a443-a66ddf24cd0c",
   "metadata": {},
   "outputs": [],
   "source": [
    "nu = 1 / Re\n",
    "l = 1 / (2 * nu) - np.sqrt(1 / (4 * nu ** 2) + 4 * np.pi ** 2)"
   ]
  },
  {
   "cell_type": "code",
   "execution_count": 5,
   "id": "66819936-1444-4122-a706-dbdf0585f93e",
   "metadata": {},
   "outputs": [],
   "source": [
    "def u_sol(x):\n",
    "    return 1 - np.exp(l * x[:, 0:1]) * np.cos(2 * np.pi * x[:, 1:2])\n",
    "\n",
    "def v_sol(x):\n",
    "    return l / (2 * np.pi) * np.exp(l * x[:, 0:1]) * np.sin(2 * np.pi * x[:, 1:2])\n",
    "\n",
    "def p_sol(x):\n",
    "    return 1 / 2 * (1 - np.exp(2 * l * x[:, 0:1]))"
   ]
  },
  {
   "cell_type": "markdown",
   "id": "07f9b3c0-6141-470c-a6f3-98bdf3fd0b2f",
   "metadata": {},
   "source": [
    "## Condições de fronteira e dados"
   ]
  },
  {
   "cell_type": "code",
   "execution_count": 6,
   "id": "96fafa2c-0bfd-463e-a618-adb9778fb42d",
   "metadata": {},
   "outputs": [],
   "source": [
    "def boundary_outflow(x, on_boundary):\n",
    "    return on_boundary and dde.utils.isclose(x[0], 1)\n",
    "\n",
    "spatial_domain = dde.geometry.Rectangle(xmin=[-0.5, -0.5], xmax=[1, 1.5])\n",
    "\n",
    "u_bc = dde.icbc.DirichletBC(\n",
    "    spatial_domain, u_sol, lambda _, on_boundary: on_boundary, component=0\n",
    ")\n",
    "\n",
    "v_bc = dde.icbc.DirichletBC(\n",
    "    spatial_domain, v_sol, lambda _, on_boundary: on_boundary, component=1\n",
    ")\n",
    "\n",
    "right_p_bc = dde.icbc.DirichletBC(\n",
    "    spatial_domain, p_sol, boundary_outflow, component=2\n",
    ")\n",
    "\n",
    "data_cp = spatial_domain.random_points(1000)\n",
    "\n",
    "data_u = u_sol(data_cp)\n",
    "data_v = v_sol(data_cp)\n",
    "data_p = p_sol(data_cp)\n",
    "\n",
    "data_u_bc = dde.icbc.PointSetBC(data_cp, data_u, component=0)\n",
    "data_v_bc = dde.icbc.PointSetBC(data_cp, data_v, component=1)\n",
    "data_p_bc = dde.icbc.PointSetBC(data_cp, data_p, component=2)"
   ]
  },
  {
   "cell_type": "markdown",
   "id": "87917a6b-c323-4abe-a64f-2f5610c333cf",
   "metadata": {},
   "source": [
    "## Pontos de colocação"
   ]
  },
  {
   "cell_type": "code",
   "execution_count": 7,
   "id": "99e2e0ce-5a2d-4f01-aee4-0ad129240379",
   "metadata": {},
   "outputs": [],
   "source": [
    "num_domain = 2048\n",
    "num_boundary = 400\n",
    "num_test = 512"
   ]
  },
  {
   "cell_type": "code",
   "execution_count": 8,
   "id": "a1b49051-d6b3-408b-9ecb-9bfb01c34554",
   "metadata": {},
   "outputs": [
    {
     "name": "stdout",
     "output_type": "stream",
     "text": [
      "Warning: 512 points required, but 540 points sampled.\n"
     ]
    }
   ],
   "source": [
    "\n",
    "data = dde.data.PDE(\n",
    "    spatial_domain,\n",
    "    pde,\n",
    "    [\n",
    "        u_bc, v_bc, right_p_bc,\n",
    "        data_u_bc, data_v_bc, data_p_bc\n",
    "    ],\n",
    "    num_domain=num_domain,\n",
    "    num_boundary=num_boundary,\n",
    "    num_test=num_test,\n",
    "    anchors=data_cp\n",
    ")"
   ]
  },
  {
   "cell_type": "markdown",
   "id": "82ad1a91-47b7-4390-ac42-e5f382510e6e",
   "metadata": {},
   "source": [
    "## Definindo as configurações da rede"
   ]
  },
  {
   "cell_type": "code",
   "execution_count": 9,
   "id": "2b8337c3-637f-4697-9608-58a39006acf8",
   "metadata": {},
   "outputs": [],
   "source": [
    "n_hidden_layers = 4\n",
    "nodes_per_layer = 50\n",
    "topology = [2] + n_hidden_layers * [nodes_per_layer] + [3]\n",
    "activation = \"tanh\"\n",
    "initialization = \"Glorot normal\"\n",
    "\n",
    "net = dde.nn.FNN(topology, activation, initialization)\n",
    "\n",
    "model = dde.Model(data, net)"
   ]
  },
  {
   "cell_type": "markdown",
   "id": "047bb878-6360-4dc1-9acf-4d90d371e6d8",
   "metadata": {},
   "source": [
    "## Treinando o modelo"
   ]
  },
  {
   "cell_type": "code",
   "execution_count": 10,
   "id": "f040942d-000e-4742-bb22-497e819dd87f",
   "metadata": {},
   "outputs": [
    {
     "name": "stdout",
     "output_type": "stream",
     "text": [
      "Compiling model...\n",
      "'compile' took 0.000415 s\n",
      "\n",
      "Training model...\n",
      "\n",
      "Step      Train loss                                                                                    Test loss                                                                                     Test metric\n",
      "0         [1.40e-02, 5.64e-02, 2.35e-01, 2.94e+00, 8.31e-02, 4.39e-02, 1.87e+00, 4.89e-02, 3.43e-02]    [1.26e-02, 5.74e-02, 2.40e-01, 2.94e+00, 8.31e-02, 4.39e-02, 1.87e+00, 4.89e-02, 3.43e-02]    []  \n",
      "5000      [1.99e-02, 1.49e-03, 2.46e-03, 2.65e-02, 1.36e-03, 2.14e-03, 6.57e-02, 2.70e-03, 1.43e-02]    [2.29e-02, 9.77e-04, 2.18e-03, 2.65e-02, 1.36e-03, 2.14e-03, 6.57e-02, 2.70e-03, 1.43e-02]    []  \n",
      "10000     [2.39e-02, 1.04e-03, 3.01e-03, 1.59e-02, 1.11e-03, 2.17e-03, 3.97e-02, 1.39e-03, 1.12e-02]    [2.66e-02, 6.77e-04, 2.75e-03, 1.59e-02, 1.11e-03, 2.17e-03, 3.97e-02, 1.39e-03, 1.12e-02]    []  \n",
      "15000     [1.25e-02, 7.11e-04, 1.02e-03, 9.91e-03, 1.22e-03, 2.45e-03, 2.53e-02, 9.18e-04, 8.28e-03]    [1.49e-02, 5.21e-04, 1.16e-03, 9.91e-03, 1.22e-03, 2.45e-03, 2.53e-02, 9.18e-04, 8.28e-03]    []  \n",
      "20000     [9.31e-03, 4.46e-04, 7.68e-04, 6.75e-03, 1.17e-03, 2.01e-03, 1.70e-02, 5.92e-04, 5.90e-03]    [1.13e-02, 3.57e-04, 8.93e-04, 6.75e-03, 1.17e-03, 2.01e-03, 1.70e-02, 5.92e-04, 5.90e-03]    []  \n",
      "25000     [7.22e-03, 3.28e-04, 6.20e-04, 4.75e-03, 1.01e-03, 1.50e-03, 1.16e-02, 3.98e-04, 4.23e-03]    [8.84e-03, 2.86e-04, 6.99e-04, 4.75e-03, 1.01e-03, 1.50e-03, 1.16e-02, 3.98e-04, 4.23e-03]    []  \n",
      "30000     [5.49e-03, 2.28e-04, 4.54e-04, 3.35e-03, 8.29e-04, 1.17e-03, 7.94e-03, 2.80e-04, 3.05e-03]    [6.75e-03, 2.01e-04, 5.12e-04, 3.35e-03, 8.29e-04, 1.17e-03, 7.94e-03, 2.80e-04, 3.05e-03]    []  \n",
      "\n",
      "Best model at step 30000:\n",
      "  train loss: 2.28e-02\n",
      "  test loss: 2.41e-02\n",
      "  test metric: []\n",
      "\n",
      "'train' took 4885.315509 s\n",
      "\n",
      "Compiling model...\n",
      "'compile' took 0.000145 s\n",
      "\n",
      "Training model...\n",
      "\n",
      "Step      Train loss                                                                                    Test loss                                                                                     Test metric\n",
      "30000     [5.49e-03, 2.28e-04, 4.54e-04, 3.35e-03, 8.29e-04, 1.17e-03, 7.94e-03, 2.80e-04, 3.05e-03]    [6.75e-03, 2.01e-04, 5.12e-04, 3.35e-03, 8.29e-04, 1.17e-03, 7.94e-03, 2.80e-04, 3.05e-03]    []  \n"
     ]
    },
    {
     "name": "stderr",
     "output_type": "stream",
     "text": [
      "/home/gabriel/anaconda3/envs/concap2025NSpinns/lib/python3.13/site-packages/paddle/optimizer/lbfgs.py:680: UserWarning: To copy construct from a tensor, it is recommended to use sourceTensor.clone().detach(), rather than paddle.to_tensor(sourceTensor).\n",
      "  s = d.multiply(paddle.to_tensor(alpha, dtype=d.dtype))\n"
     ]
    },
    {
     "name": "stdout",
     "output_type": "stream",
     "text": [
      "31000     [2.90e-05, 2.08e-05, 2.33e-05, 9.44e-06, 4.20e-06, 2.22e-06, 4.55e-06, 9.62e-07, 2.15e-06]    [2.51e-05, 1.79e-05, 1.86e-05, 9.44e-06, 4.20e-06, 2.22e-06, 4.55e-06, 9.62e-07, 2.15e-06]    []  \n",
      "32000     [5.49e-06, 5.27e-06, 3.10e-06, 1.01e-06, 4.74e-07, 3.76e-07, 4.48e-07, 1.19e-07, 2.21e-07]    [4.14e-06, 3.79e-06, 2.45e-06, 1.01e-06, 4.74e-07, 3.76e-07, 4.48e-07, 1.19e-07, 2.21e-07]    []  \n",
      "33000     [2.09e-06, 2.02e-06, 1.23e-06, 8.47e-07, 2.40e-07, 2.29e-07, 3.06e-07, 6.81e-08, 1.57e-07]    [1.63e-06, 1.63e-06, 1.08e-06, 8.47e-07, 2.40e-07, 2.29e-07, 3.06e-07, 6.81e-08, 1.57e-07]    []  \n",
      "33971     [1.32e-06, 1.03e-06, 7.78e-07, 5.32e-07, 1.42e-07, 1.24e-07, 2.22e-07, 3.63e-08, 6.41e-08]    [9.81e-07, 8.20e-07, 6.37e-07, 5.32e-07, 1.42e-07, 1.24e-07, 2.22e-07, 3.63e-08, 6.41e-08]    []  \n",
      "\n",
      "Best model at step 33971:\n",
      "  train loss: 4.25e-06\n",
      "  test loss: 3.56e-06\n",
      "  test metric: []\n",
      "\n",
      "'train' took 670.235243 s\n",
      "\n"
     ]
    }
   ],
   "source": [
    "ex_variable_cb = dde.callbacks.VariableValue(\n",
    "    [ex_Re], \n",
    "    period=1000, \n",
    "    filename=f\"./parameters/reynolds-{Re}.dat\"\n",
    ")\n",
    "\n",
    "model.compile(\"adam\", lr=1e-3, external_trainable_variables=[ex_Re])\n",
    "\n",
    "losshistory, train_state = model.train(\n",
    "    iterations=30000, \n",
    "    display_every=5000,\n",
    "    callbacks=[ex_variable_cb])\n",
    "\n",
    "model.compile(\"L-BFGS\", external_trainable_variables=[ex_Re])\n",
    "losshistory, train_state = model.train(display_every=5000, callbacks=[ex_variable_cb])"
   ]
  },
  {
   "cell_type": "markdown",
   "id": "0fcf3f71-862f-4b20-929c-aa36e9cd3609",
   "metadata": {},
   "source": [
    "## Salvando o modelo"
   ]
  },
  {
   "cell_type": "code",
   "execution_count": 12,
   "id": "f51000df-0fdb-47af-bba6-eddcecf3db34",
   "metadata": {},
   "outputs": [
    {
     "name": "stdout",
     "output_type": "stream",
     "text": [
      "Saving loss history to ./losses/Re100-nonoise-loss ...\n",
      "Saving training data to ./losses/Re100-nonoise-train ...\n",
      "Saving test data to ./losses/Re100-nonoise-test ...\n"
     ]
    },
    {
     "data": {
      "text/plain": [
       "'./models/Re100-nonoise-33971.pdparams'"
      ]
     },
     "execution_count": 12,
     "metadata": {},
     "output_type": "execute_result"
    }
   ],
   "source": [
    "dde.saveplot(\n",
    "    losshistory, \n",
    "    train_state, \n",
    "    issave=True, \n",
    "    isplot=False, \n",
    "    output_dir=\"./losses\", \n",
    "    loss_fname=f\"Re{Re}-nonoise-loss\",\n",
    "    train_fname=f\"Re{Re}-nonoise-train\",\n",
    "    test_fname=f\"Re{Re}-nonoise-test\")\n",
    "\n",
    "model.save(f\"./models/Re{Re}-nonoise\")"
   ]
  },
  {
   "cell_type": "markdown",
   "id": "49807afe-b056-4fad-9775-9a269fc578b2",
   "metadata": {},
   "source": [
    "## Visualizando resultados"
   ]
  },
  {
   "cell_type": "code",
   "execution_count": 21,
   "id": "5f13d5bc-0572-4e88-9941-441c42a595af",
   "metadata": {},
   "outputs": [],
   "source": [
    "\n",
    "def plot_and_save_losses(losshistory, fig_name):\n",
    "    \n",
    "    X = losshistory.steps\n",
    "    train = np.sum(losshistory.loss_train, axis=1)\n",
    "    test = np.sum(losshistory.loss_test, axis=1)\n",
    "    \n",
    "    plt.semilogy(X, train, \"o-\", label=\"Treinamento\", linewidth=2)\n",
    "    plt.semilogy(X, test, \"x-\", label=\"Teste\", linewidth=2)\n",
    "\n",
    "    plt.xlabel(\"Iteração\")\n",
    "    plt.ylabel(\"Erro em escala logarítmica\")\n",
    "    \n",
    "    plt.legend()\n",
    "    plt.grid()\n",
    "    plt.savefig(f\"./images/{fig_name}.png\")\n",
    "    plt.show()\n",
    "\n",
    "\n",
    "def plot_parameter_approximation(path, real_value, fig_name):\n",
    "    \n",
    "    def parse_line(line):\n",
    "        match = re.match(r'(\\S+)\\s*\\[(\\S+)\\]', line.strip())\n",
    "        if match:\n",
    "            return [float(x) for x in match.groups()]\n",
    "        return None \n",
    "    \n",
    "    with open(path, 'r') as f:\n",
    "        parsed_data = [parse_line(line) for line in f if not line.startswith('#') and line.strip()]\n",
    "        parsed_data = [x for x in parsed_data if x is not None]\n",
    "\n",
    "    df = pd.DataFrame(parsed_data, columns=['x', 'y'])\n",
    "    \n",
    "    iterations = df['x'].values\n",
    "    reynolds = df['y'].values\n",
    "    \n",
    "    plt.plot(iterations, reynolds, color=\"blue\", linewidth=2, linestyle='--', marker=\"o\", markersize=5, label=r\"$Re$ estimado\")\n",
    "    plt.axhline(y=real_value, color='r', label=r\"$Re$ real\")\n",
    "    \n",
    "    plt.xlabel(\"iteração\")\n",
    "    plt.ylabel(r\"$Re$\")\n",
    "\n",
    "    plt.grid()\n",
    "    plt.legend()\n",
    "    plt.savefig(f\"./images/{fig_name}.png\")\n",
    "    plt.show()"
   ]
  },
  {
   "cell_type": "markdown",
   "id": "9277c63c-acc1-4c91-8ab7-2af7d10a76b3",
   "metadata": {},
   "source": [
    "### Valor estimado"
   ]
  },
  {
   "cell_type": "code",
   "execution_count": 14,
   "id": "12ea318b-3cae-4589-aea5-c74527d4ff19",
   "metadata": {},
   "outputs": [
    {
     "data": {
      "text/plain": [
       "array(100.05284, dtype=float32)"
      ]
     },
     "execution_count": 14,
     "metadata": {},
     "output_type": "execute_result"
    }
   ],
   "source": [
    "ex_Re.cpu().numpy()"
   ]
  },
  {
   "cell_type": "markdown",
   "id": "b0f27684-c275-437a-9000-a9f331de459f",
   "metadata": {},
   "source": [
    "### Gráficos"
   ]
  },
  {
   "cell_type": "code",
   "execution_count": 15,
   "id": "df827e35-3e6b-491e-abe1-c8523cacd66f",
   "metadata": {},
   "outputs": [
    {
     "data": {
      "image/png": "[encoded data removed]",
      "text/plain": [
       "<Figure size 640x480 with 1 Axes>"
      ]
     },
     "metadata": {},
     "output_type": "display_data"
    }
   ],
   "source": [
    "plot_parameter_approximation(f\"./parameters/reynolds-{Re}.dat\", Re, f\"reynolds_nonoise-{Re}\")"
   ]
  },
  {
   "cell_type": "code",
   "execution_count": 16,
   "id": "e3566ee3-bd2a-4968-b95f-a465a779725b",
   "metadata": {},
   "outputs": [
    {
     "data": {
      "image/png": "[encoded data removed]",
      "text/plain": [
       "<Figure size 640x480 with 1 Axes>"
      ]
     },
     "metadata": {},
     "output_type": "display_data"
    }
   ],
   "source": [
    "plot_and_save_losses(losshistory, \"reynolds_nonoise_loss\")"
   ]
  },
  {
   "cell_type": "markdown",
   "id": "45691542-b543-4f71-9e8f-57ce7c7e6df7",
   "metadata": {},
   "source": [
    "# Experimento com ruído\n",
    "---\n",
    "Vamos repetir o experimento acima, mas adicionando ruído gaussiano aos dados e às condições de fronteira."
   ]
  },
  {
   "cell_type": "code",
   "execution_count": 10,
   "id": "9f500184-c602-4538-9860-609158780c97",
   "metadata": {},
   "outputs": [],
   "source": [
    "noise_std = 0.2"
   ]
  },
  {
   "cell_type": "code",
   "execution_count": 11,
   "id": "154023fe-4064-4107-b54f-d3903af06de3",
   "metadata": {},
   "outputs": [],
   "source": [
    "def noisy_u_sol(x):\n",
    "    u = u_sol(x)\n",
    "    return u + np.random.normal(scale=noise_std, size=u.shape)\n",
    "\n",
    "def noisy_v_sol(x):\n",
    "    v = v_sol(x)\n",
    "    return v + np.random.normal(scale=noise_std, size=v.shape)\n",
    "\n",
    "def noisy_p_sol(x):\n",
    "    p = p_sol(x)\n",
    "    return p + np.random.normal(scale=noise_std, size=p.shape)"
   ]
  },
  {
   "cell_type": "code",
   "execution_count": 14,
   "id": "3655e1bf-6704-4189-87fe-7c2c6a174d97",
   "metadata": {},
   "outputs": [],
   "source": [
    "noisy_u_bc = dde.icbc.DirichletBC(\n",
    "    spatial_domain, noisy_u_sol, lambda _, on_boundary: on_boundary, component=0\n",
    ")\n",
    "\n",
    "noisy_v_bc = dde.icbc.DirichletBC(\n",
    "    spatial_domain, noisy_v_sol, lambda _, on_boundary: on_boundary, component=1\n",
    ")\n",
    "\n",
    "noisy_right_p_bc = dde.icbc.DirichletBC(\n",
    "    spatial_domain, noisy_p_sol, boundary_outflow, component=2\n",
    ")\n",
    "\n",
    "noisy_data_u = noisy_u_sol(data_cp)\n",
    "noisy_data_v = noisy_v_sol(data_cp)\n",
    "noisy_data_p = noisy_p_sol(data_cp)\n",
    "\n",
    "noisy_data_u_bc = dde.icbc.PointSetBC(data_cp, noisy_data_u, component=0)\n",
    "noisy_data_v_bc = dde.icbc.PointSetBC(data_cp, noisy_data_v, component=1)\n",
    "noisy_data_p_bc = dde.icbc.PointSetBC(data_cp, noisy_data_p, component=2)"
   ]
  },
  {
   "cell_type": "code",
   "execution_count": 15,
   "id": "ffce51d8-cf3b-40f4-a98a-50df823c935c",
   "metadata": {},
   "outputs": [
    {
     "name": "stdout",
     "output_type": "stream",
     "text": [
      "Warning: 512 points required, but 540 points sampled.\n"
     ]
    }
   ],
   "source": [
    "noisy_data = dde.data.PDE(\n",
    "    spatial_domain,\n",
    "    pde,\n",
    "    [\n",
    "        noisy_u_bc, noisy_v_bc, noisy_right_p_bc,\n",
    "        noisy_data_u_bc, noisy_data_v_bc, noisy_data_p_bc\n",
    "    ],\n",
    "    num_domain=num_domain,\n",
    "    num_boundary=num_boundary,\n",
    "    num_test=num_test,\n",
    "    anchors=data_cp\n",
    ")"
   ]
  },
  {
   "cell_type": "code",
   "execution_count": 16,
   "id": "501748f7-44dc-45c9-b07d-a6558d71d43b",
   "metadata": {},
   "outputs": [],
   "source": [
    "noisy_model = dde.Model(noisy_data, net)"
   ]
  },
  {
   "cell_type": "code",
   "execution_count": 17,
   "id": "3cdf91f1-b67c-4ee2-8408-dd7bd358c4bf",
   "metadata": {},
   "outputs": [
    {
     "name": "stdout",
     "output_type": "stream",
     "text": [
      "Compiling model...\n",
      "'compile' took 0.000231 s\n",
      "\n",
      "Training model...\n",
      "\n",
      "Step      Train loss                                                                                    Test loss                                                                                     Test metric\n",
      "0         [1.40e-02, 5.64e-02, 2.35e-01, 2.99e+00, 1.24e-01, 6.84e-02, 1.91e+00, 9.06e-02, 7.38e-02]    [1.26e-02, 5.74e-02, 2.40e-01, 2.99e+00, 1.24e-01, 6.84e-02, 1.91e+00, 9.06e-02, 7.38e-02]    []  \n",
      "5000      [2.11e-02, 1.88e-03, 3.01e-03, 6.29e-02, 4.01e-02, 3.88e-02, 1.05e-01, 4.42e-02, 5.51e-02]    [2.42e-02, 1.20e-03, 2.95e-03, 6.29e-02, 4.01e-02, 3.88e-02, 1.05e-01, 4.42e-02, 5.51e-02]    []  \n",
      "10000     [1.74e-02, 1.52e-03, 4.33e-03, 5.30e-02, 3.89e-02, 3.93e-02, 8.03e-02, 4.33e-02, 5.13e-02]    [1.87e-02, 1.05e-03, 4.57e-03, 5.30e-02, 3.89e-02, 3.93e-02, 8.03e-02, 4.33e-02, 5.13e-02]    []  \n",
      "15000     [1.28e-02, 8.59e-04, 1.45e-03, 4.55e-02, 3.84e-02, 3.93e-02, 6.46e-02, 4.28e-02, 4.82e-02]    [1.54e-02, 6.87e-04, 1.55e-03, 4.55e-02, 3.84e-02, 3.93e-02, 6.46e-02, 4.28e-02, 4.82e-02]    []  \n",
      "20000     [9.89e-03, 4.65e-04, 1.11e-03, 4.22e-02, 3.79e-02, 3.90e-02, 5.60e-02, 4.25e-02, 4.57e-02]    [1.21e-02, 4.41e-04, 1.15e-03, 4.22e-02, 3.79e-02, 3.90e-02, 5.60e-02, 4.25e-02, 4.57e-02]    []  \n",
      "25000     [8.00e-03, 5.16e-04, 1.22e-03, 4.02e-02, 3.75e-02, 3.83e-02, 5.07e-02, 4.24e-02, 4.39e-02]    [9.62e-03, 5.01e-04, 1.31e-03, 4.02e-02, 3.75e-02, 3.83e-02, 5.07e-02, 4.24e-02, 4.39e-02]    []  \n",
      "30000     [5.99e-03, 3.70e-04, 1.00e-03, 3.92e-02, 3.70e-02, 3.78e-02, 4.71e-02, 4.22e-02, 4.26e-02]    [7.26e-03, 3.15e-04, 1.08e-03, 3.92e-02, 3.70e-02, 3.78e-02, 4.71e-02, 4.22e-02, 4.26e-02]    []  \n",
      "\n",
      "Best model at step 30000:\n",
      "  train loss: 2.53e-01\n",
      "  test loss: 2.55e-01\n",
      "  test metric: []\n",
      "\n",
      "'train' took 5195.397572 s\n",
      "\n",
      "Compiling model...\n",
      "'compile' took 0.000401 s\n",
      "\n",
      "Training model...\n",
      "\n",
      "Step      Train loss                                                                                    Test loss                                                                                     Test metric\n",
      "30000     [5.99e-03, 3.70e-04, 1.00e-03, 3.92e-02, 3.70e-02, 3.78e-02, 4.71e-02, 4.22e-02, 4.26e-02]    [7.26e-03, 3.15e-04, 1.08e-03, 3.92e-02, 3.70e-02, 3.78e-02, 4.71e-02, 4.22e-02, 4.26e-02]    []  \n"
     ]
    },
    {
     "name": "stderr",
     "output_type": "stream",
     "text": [
      "/home/gabriel/anaconda3/envs/concap2025NSpinns/lib/python3.13/site-packages/paddle/optimizer/lbfgs.py:680: UserWarning: To copy construct from a tensor, it is recommended to use sourceTensor.clone().detach(), rather than paddle.to_tensor(sourceTensor).\n",
      "  s = d.multiply(paddle.to_tensor(alpha, dtype=d.dtype))\n"
     ]
    },
    {
     "name": "stdout",
     "output_type": "stream",
     "text": [
      "31000     [6.20e-04, 3.74e-04, 3.65e-04, 3.70e-02, 3.75e-02, 3.64e-02, 3.85e-02, 4.20e-02, 3.92e-02]    [5.42e-04, 2.79e-04, 3.30e-04, 3.70e-02, 3.75e-02, 3.64e-02, 3.85e-02, 4.20e-02, 3.92e-02]    []  \n",
      "31698     [4.04e-04, 2.88e-04, 2.98e-04, 3.69e-02, 3.74e-02, 3.63e-02, 3.82e-02, 4.20e-02, 3.91e-02]    [3.05e-04, 1.84e-04, 2.68e-04, 3.69e-02, 3.74e-02, 3.63e-02, 3.82e-02, 4.20e-02, 3.91e-02]    []  \n",
      "\n",
      "Best model at step 31698:\n",
      "  train loss: 2.31e-01\n",
      "  test loss: 2.31e-01\n",
      "  test metric: []\n",
      "\n",
      "'train' took 347.701377 s\n",
      "\n"
     ]
    }
   ],
   "source": [
    "ex_Re = dde.Variable(Re_guess)\n",
    "\n",
    "noisy_ex_variable_cb = dde.callbacks.VariableValue(\n",
    "    [ex_Re], \n",
    "    period=1000, \n",
    "    filename=f\"./parameters/noisy_reynolds-{Re}.dat\"\n",
    ")\n",
    "\n",
    "noisy_model.compile(\"adam\", lr=1e-3, external_trainable_variables=[ex_Re])\n",
    "\n",
    "noisy_losshistory, noisy_train_state = noisy_model.train(\n",
    "    iterations=30000, \n",
    "    display_every=5000,\n",
    "    callbacks=[noisy_ex_variable_cb])\n",
    "\n",
    "noisy_model.compile(\"L-BFGS\", external_trainable_variables=[ex_Re])\n",
    "noisy_losshistory, noisy_train_state = noisy_model.train(\n",
    "    display_every=5000, \n",
    "    callbacks=[noisy_ex_variable_cb])"
   ]
  },
  {
   "cell_type": "code",
   "execution_count": 18,
   "id": "f1cea085-0a4c-477f-ab8b-3ceebb17d212",
   "metadata": {},
   "outputs": [
    {
     "name": "stdout",
     "output_type": "stream",
     "text": [
      "Saving loss history to ./losses/Re100-noisy-loss ...\n",
      "Saving training data to ./losses/Re100-noisy-train ...\n",
      "Saving test data to ./losses/Re100-noisy-test ...\n"
     ]
    },
    {
     "data": {
      "text/plain": [
       "'./models/Re100-noisy-31698.pdparams'"
      ]
     },
     "execution_count": 18,
     "metadata": {},
     "output_type": "execute_result"
    }
   ],
   "source": [
    "dde.saveplot(\n",
    "    noisy_losshistory, \n",
    "    noisy_train_state, \n",
    "    issave=True, \n",
    "    isplot=False, \n",
    "    output_dir=\"./losses\", \n",
    "    loss_fname=f\"Re{Re}-noisy-loss\",\n",
    "    train_fname=f\"Re{Re}-noisy-train\",\n",
    "    test_fname=f\"Re{Re}-noisy-test\")\n",
    "\n",
    "noisy_model.save(f\"./models/Re{Re}-noisy\")"
   ]
  },
  {
   "cell_type": "code",
   "execution_count": 19,
   "id": "ca61d05e-3b80-4734-a17f-ee04a48d5875",
   "metadata": {},
   "outputs": [
    {
     "data": {
      "text/plain": [
       "array(94.49284, dtype=float32)"
      ]
     },
     "execution_count": 19,
     "metadata": {},
     "output_type": "execute_result"
    }
   ],
   "source": [
    "ex_Re.cpu().numpy()"
   ]
  },
  {
   "cell_type": "code",
   "execution_count": 22,
   "id": "8f939e87-ed23-4fc9-acb9-98a3dc41d1bd",
   "metadata": {},
   "outputs": [
    {
     "data": {
      "image/png": "[encoded data removed]",
      "text/plain": [
       "<Figure size 640x480 with 1 Axes>"
      ]
     },
     "metadata": {},
     "output_type": "display_data"
    }
   ],
   "source": [
    "plot_parameter_approximation(f\"./parameters/noisy_reynolds-{Re}.dat\", Re, f\"noisy_reynolds-{Re}\")"
   ]
  },
  {
   "cell_type": "code",
   "execution_count": 23,
   "id": "8ffbea96-28d1-4c61-b9c1-c30e00e8a0e2",
   "metadata": {},
   "outputs": [
    {
     "data": {
      "image/png": "[encoded data removed]",
      "text/plain": [
       "<Figure size 640x480 with 1 Axes>"
      ]
     },
     "metadata": {},
     "output_type": "display_data"
    }
   ],
   "source": [
    "plot_and_save_losses(noisy_losshistory, f\"noisy_reynolds_loss-{Re}\")"
   ]
  },
  {
   "cell_type": "markdown",
   "id": "baa91ded-60f8-4e3c-a20c-195419d244e5",
   "metadata": {},
   "source": []
  }
 ],
 "metadata": {
  "kernelspec": {
   "display_name": "Python 3 (ipykernel)",
   "language": "python",
   "name": "python3"
  },
  "language_info": {
   "codemirror_mode": {
    "name": "ipython",
    "version": 3
   },
   "file_extension": ".py",
   "mimetype": "text/x-python",
   "name": "python",
   "nbconvert_exporter": "python",
   "pygments_lexer": "ipython3",
   "version": "3.13.5"
  }
 },
 "nbformat": 4,
 "nbformat_minor": 5
}
